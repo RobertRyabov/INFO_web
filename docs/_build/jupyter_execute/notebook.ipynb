{
 "cells": [
  {
   "cell_type": "markdown",
   "id": "4e96f44d-68d0-4f64-a003-2d922b32b30f",
   "metadata": {},
   "source": [
    "# Introduction #"
   ]
  },
  {
   "cell_type": "markdown",
   "id": "070b47b5-1dba-4533-b25b-6afac02a33e2",
   "metadata": {},
   "source": [
    "In today’s connected world, social media is a double-edged sword. While some say it is a powerful tool for networking, learning, and efficient communication, others struggle with distraction, addiction, and declining mental health. Our data story explores this dichotomy by analyzing how social media habits impact productivity, well-being, and job satisfaction among students and professionals.\n",
    "\n",
    "Using three datasets—including Students’ Social Media Addiction and Social Media vs. Productivity—we’ll visualize key trends, such as correlations between screen time and stress levels or addiction scores and academic performance. Through scatter plots, box plots, and other graphs, we aim to provide new insightful information to the public.\n",
    "\n",
    "Our goal is to provide data-driven insights to users so we give them the chance to make thoughtful decisions.\n"
   ]
  },
  {
   "cell_type": "markdown",
   "id": "72181035-3c14-4cbf-8007-2796ca6225cd",
   "metadata": {},
   "source": [
    "### Authors ###"
   ]
  },
  {
   "cell_type": "markdown",
   "id": "521fe393-0ff5-4259-b03d-31c420d28a88",
   "metadata": {},
   "source": [
    "+ Robert Quarshie, 1465836\n",
    "+ Bo Wessel, 14043009\n",
    "+ Robert Ryabov, 15475255\n",
    "+ Trayvaun Palmer, 14654164\n"
   ]
  },
  {
   "cell_type": "markdown",
   "id": "d202db5a-8f9b-48db-8462-3d8dbfe4bdca",
   "metadata": {},
   "source": [
    "# Datasets #"
   ]
  },
  {
   "cell_type": "markdown",
   "id": "58c8a25a-b90c-4447-b52a-1d053ece962f",
   "metadata": {},
   "source": [
    "For this project we made use of three datasets. The way we assembled the datasets is, each group member searched the internet for multiple datasets about the subject. Then we compared them to choose the three that fitted the best together and covered the most of our interest. All three were found on Kaggle and have the following names: *Students' Social Media Addiction*, *Social Media vs Productivity* and *Mobile Device Usage and User Behavior Dataset*."
   ]
  },
  {
   "cell_type": "markdown",
   "id": "ba74d234-67cf-4fa8-91d0-52f6ed523a28",
   "metadata": {},
   "source": [
    "### Variable description ###"
   ]
  },
  {
   "cell_type": "markdown",
   "id": "93de27c8-6efe-4f2a-946a-4178a818163a",
   "metadata": {},
   "source": [
    "#### Continuous / Ratio Variables ####"
   ]
  },
  {
   "cell_type": "markdown",
   "id": "75dcb31c-8e6f-4283-92bd-97f71dc9a899",
   "metadata": {},
   "source": [
    "Avg_Daily_Usage_Hours, Sleep_Hours_Per_Night, daily_social_media_time, work_hours_per_day, sleep_hours, screen_time_before_sleep, weekly_offline_hours, App Usage Time (minutes), Screen On Time (hours), Battery Drain (mAh) andData Usage (megabytes)."
   ]
  },
  {
   "cell_type": "markdown",
   "id": "76305b67-bec5-49b9-97cc-4e53df20a2de",
   "metadata": {},
   "source": [
    "#### Discrete / Ordinal Variables ####"
   ]
  },
  {
   "cell_type": "markdown",
   "id": "6d21c69c-2325-45b3-b62b-1c720ad010b1",
   "metadata": {},
   "source": [
    "Academic_Level, Mental_Health_Score, Addicted_Score, perceived_productivity_score, actual_productivity_score, stress_level, job_satisfaction_score and User Behavior Class (1 to 5)."
   ]
  },
  {
   "cell_type": "markdown",
   "id": "8cc51303-d36f-473f-9897-c599bb314692",
   "metadata": {},
   "source": [
    "#### Discrete / Nominal Variables ####"
   ]
  },
  {
   "cell_type": "markdown",
   "id": "0b9446b0-5f53-494d-86ac-d4aa68d5ace9",
   "metadata": {},
   "source": [
    "Student_ID, Gender, Country, Most_Used_Platform, Affects_Academic_Performance, Relationship_Status, gender, job_type, social_platform_preference, uses_focus_apps, has_digital_wellbeing_enabled, User ID, Device Model and Operating System (iOS/Android)."
   ]
  },
  {
   "cell_type": "markdown",
   "id": "671f91f6-4685-4820-80fb-464c235a5fda",
   "metadata": {},
   "source": [
    "#### Discrete / Ratio Variables ####"
   ]
  },
  {
   "cell_type": "markdown",
   "id": "2958f843-d20f-4502-b668-a051f2ae5be5",
   "metadata": {},
   "source": [
    "Age, Conflicts_Over_Social_Media, number_of_notifications, breaks_during_work, coffee_consumption_per_day, days_feeling_burnout_per_month and Number of Apps Installed.\n",
    " \n"
   ]
  },
  {
   "cell_type": "markdown",
   "id": "c9d2e8c4-90b5-4fcf-867a-b602f93fce2a",
   "metadata": {},
   "source": [
    "#### Variables that are used in this project:  ####"
   ]
  },
  {
   "cell_type": "markdown",
   "id": "83dca800-f27e-4a1f-afa0-6d3e5c611e01",
   "metadata": {},
   "source": [
    "# Preprocessing #"
   ]
  },
  {
   "cell_type": "markdown",
   "id": "9564a6b2-0d59-4183-b2d5-38e9f50fc41a",
   "metadata": {},
   "source": [
    "The dataset contains various digital behavior metrics, well-being scores, and demographic variables collected from different sources. To ensure consistency, we first standardized column names and structures. Variables measuring similar concepts were identified and merged—for example, Sleep_Hours_Per_Night and sleep_hours were consolidated into a single daily_sleep_hours variable.\n",
    "Redundant or irrelevant columns (e.g., Student_ID, User ID) were removed, as they do not contribute to the statistical analysis. Some device-specific variables (e.g., Device Model, Battery Drain) were excluded since they are more relevant for technical analysis rather than behavioral studies.\n",
    "\n",
    "Next, we examined each variable’s unique values and adjusted them for consistency:\n",
    "+ **Continuous variables** (e.g., Avg_Daily_Usage_Hours, Screen On Time) were checked for outliers and normalized where necessary.\n",
    "+ **Ordinal scales** (e.g., Mental_Health_Score, stress_level) were validated to ensure proper ranking (e.g., confirming that higher numbers indicate worse stress).\n",
    "+ **Nominal categories** (e.g., Most_Used_Platform, social_platform_preference) were grouped where possible (e.g., merging \"Instagram\" and \"IG\" into a single category).\n",
    "After this we end up with a clean dataset which can be used to do further research with.\n"
   ]
  },
  {
   "cell_type": "markdown",
   "id": "fc259d22-99cf-420a-80e2-2691a7a5e49f",
   "metadata": {},
   "source": [
    "# First perspective #"
   ]
  },
  {
   "cell_type": "markdown",
   "id": "36de8a2e-9030-4ef0-bbd5-b1a7acb01c06",
   "metadata": {},
   "source": [
    "## Argument 1 ##"
   ]
  },
  {
   "cell_type": "markdown",
   "id": "cced13c1-efff-4d67-a01a-0c89fdb39dac",
   "metadata": {},
   "source": [
    "### Social Media Fosters Communication and Collaboration, with a Nuanced Impact on Productivity ###"
   ]
  },
  {
   "cell_type": "markdown",
   "id": "c33386d2-941f-4d08-a5f3-92654ef5cecf",
   "metadata": {},
   "source": [
    "Platforms such as Slack, LinkedIn, and Twitter have become essential tools for networking, information exchange, and teamwork, particularly in remote or hybrid work environments. These platforms help bridge communication gaps and streamline workflows.\n",
    "Our dataset of 25,751 respondents indicates an average daily social media use of approximately 3.11 hours and a mean perceived productivity score of 5.51 (on a scale where higher scores represent greater productivity). A small but statistically significant negative correlation exists between daily social media time and perceived productivity (Pearson’s r = -0.12, p < 0.001). This suggests that productivity tends to decrease slightly as social media use increases, though the effect size remains modest.\n",
    "Figure 1 visualizes this relationship, where the scatter plot with a regression line reveals a subtle downward trend. This indicates that while excessive social media use might detract from productivity, moderate engagement can still play a valuable role in enhancing communication and collaboration, indirectly supporting productivity and job satisfaction.\n",
    "These findings underscore the importance of mindful social media use to maximize its benefits while minimizing potential distractions.\n"
   ]
  },
  {
   "cell_type": "code",
   "execution_count": 1,
   "id": "87b90ca1-373f-4f82-8724-8ca29333bd42",
   "metadata": {},
   "outputs": [
    {
     "ename": "ModuleNotFoundError",
     "evalue": "No module named 'scipy'",
     "output_type": "error",
     "traceback": [
      "\u001b[31m---------------------------------------------------------------------------\u001b[39m",
      "\u001b[31mModuleNotFoundError\u001b[39m                       Traceback (most recent call last)",
      "\u001b[36mFile \u001b[39m\u001b[32m~/Desktop/INFO_web/docs/plot_productivity.py:4\u001b[39m\n\u001b[32m      2\u001b[39m \u001b[38;5;28;01mimport\u001b[39;00m\u001b[38;5;250m \u001b[39m\u001b[34;01mmatplotlib\u001b[39;00m\u001b[34;01m.\u001b[39;00m\u001b[34;01mpyplot\u001b[39;00m\u001b[38;5;250m \u001b[39m\u001b[38;5;28;01mas\u001b[39;00m\u001b[38;5;250m \u001b[39m\u001b[34;01mplt\u001b[39;00m\n\u001b[32m      3\u001b[39m \u001b[38;5;28;01mimport\u001b[39;00m\u001b[38;5;250m \u001b[39m\u001b[34;01mseaborn\u001b[39;00m\u001b[38;5;250m \u001b[39m\u001b[38;5;28;01mas\u001b[39;00m\u001b[38;5;250m \u001b[39m\u001b[34;01msns\u001b[39;00m\n\u001b[32m----> \u001b[39m\u001b[32m4\u001b[39m \u001b[38;5;28;01mfrom\u001b[39;00m\u001b[38;5;250m \u001b[39m\u001b[34;01mscipy\u001b[39;00m\u001b[34;01m.\u001b[39;00m\u001b[34;01mstats\u001b[39;00m\u001b[38;5;250m \u001b[39m\u001b[38;5;28;01mimport\u001b[39;00m pearsonr\n\u001b[32m      6\u001b[39m df_addiction = pd.read_csv(\u001b[33m'\u001b[39m\u001b[33msocial_media_vs_productivity.csv\u001b[39m\u001b[33m'\u001b[39m)\n\u001b[32m      8\u001b[39m \u001b[38;5;66;03m# Check if column exists\u001b[39;00m\n",
      "\u001b[31mModuleNotFoundError\u001b[39m: No module named 'scipy'"
     ]
    }
   ],
   "source": [
    "%run plot_productivity.py"
   ]
  },
  {
   "cell_type": "markdown",
   "id": "da365d5d-849e-4f1e-bb2c-ae9d6347c478",
   "metadata": {},
   "source": [
    "## Argument 2 ##"
   ]
  },
  {
   "cell_type": "markdown",
   "id": "93afa09b-8b3b-405d-9a89-3848b888f9f0",
   "metadata": {},
   "source": [
    "### Moderate Social Media Use Boosts Job Satisfaction and Emotional Engagement ###"
   ]
  },
  {
   "cell_type": "markdown",
   "id": "bb2738cc-a906-459e-afbd-352870572d0b",
   "metadata": {},
   "source": [
    "Beyond productivity, social media offers emotional benefits such as social support, motivational content, and mental breaks. Our analysis shows that participants who use social media moderately—between 2 to 4 hours per day—tend to report slightly higher job satisfaction scores compared to both low and very high users. Figure 2 illustrates these trends, indicating that moderate users generally experience greater emotional engagement and well-being in their work or study environments.\n",
    "\n",
    "To further explore this relationship, we categorized social media usage into four groups: Low (0–2 hours), Moderate (2–4 hours), High (4–6 hours), and Very High (6+ hours). The number of participants per group ranged from 1,748 in the Very High category to 9,318 in the Moderate category, providing a solid sample for comparison.\n",
    "\n",
    "Interestingly, median job satisfaction scores were quite similar across categories:\n",
    "+ Low usage: 4.94\n",
    "+ Moderate usage: 4.96\n",
    "+ High usage: 4.97\n",
    "+ Very High usage: 4.89\n",
    "\n",
    "\n",
    "Mean job satisfaction scores followed a similar pattern, with standard deviations near 2.1 across all groups. These results suggest that job satisfaction remains relatively stable regardless of social media usage intensity.\n",
    "\n",
    "\n",
    "The boxplot in Figure 2 reinforces this by showing overlapping distributions of job satisfaction scores across the usage groups, indicating no strong positive or negative effect. Therefore, while moderate social media use may contribute to emotional engagement, job satisfaction appears robust across varying levels of social media activity.\n"
   ]
  },
  {
   "cell_type": "code",
   "execution_count": 2,
   "id": "10e833f9-2ff6-4059-a247-ab43c01c6c7d",
   "metadata": {},
   "outputs": [
    {
     "name": "stdout",
     "output_type": "stream",
     "text": [
      "Number of users in each social media usage category:\n",
      "usage_category\n",
      "Low          7647\n",
      "Moderate     9318\n",
      "High         6038\n",
      "Very High    1748\n",
      "Name: count, dtype: int64\n",
      "\n",
      "Median Job Satisfaction Score by Social Media Usage Category:\n",
      "usage_category\n",
      "Low          4.944690\n",
      "Moderate     4.955939\n",
      "High         4.972374\n",
      "Very High    4.890567\n",
      "Name: job_satisfaction_score, dtype: float64\n",
      "\n",
      "Mean ± SD Job Satisfaction Score by Social Media Usage Category:\n",
      "Low: 4.95 ± 2.13\n",
      "Moderate: 4.97 ± 2.12\n",
      "High: 4.99 ± 2.11\n",
      "Very High: 4.87 ± 2.09\n"
     ]
    },
    {
     "name": "stderr",
     "output_type": "stream",
     "text": [
      "/Users/Apple/Desktop/INFO_web/docs/job_satisfection.py:23: FutureWarning: The default of observed=False is deprecated and will be changed to True in a future version of pandas. Pass observed=False to retain current behavior or observed=True to adopt the future default and silence this warning.\n",
      "  median_satisfaction = df_clean.groupby('usage_category')['job_satisfaction_score'].median()\n",
      "/Users/Apple/Desktop/INFO_web/docs/job_satisfection.py:28: FutureWarning: The default of observed=False is deprecated and will be changed to True in a future version of pandas. Pass observed=False to retain current behavior or observed=True to adopt the future default and silence this warning.\n",
      "  mean_satisfaction = df_clean.groupby('usage_category')['job_satisfaction_score'].mean()\n",
      "/Users/Apple/Desktop/INFO_web/docs/job_satisfection.py:29: FutureWarning: The default of observed=False is deprecated and will be changed to True in a future version of pandas. Pass observed=False to retain current behavior or observed=True to adopt the future default and silence this warning.\n",
      "  std_satisfaction = df_clean.groupby('usage_category')['job_satisfaction_score'].std()\n"
     ]
    },
    {
     "data": {
      "image/png": "[encoded data removed]",
      "text/plain": [
       "<Figure size 1000x600 with 1 Axes>"
      ]
     },
     "metadata": {},
     "output_type": "display_data"
    }
   ],
   "source": [
    "%run job_satisfection.py"
   ]
  },
  {
   "cell_type": "markdown",
   "id": "a1153028-1dc0-48ea-aea1-d7d8c3be546b",
   "metadata": {},
   "source": [
    "# Summary #"
   ]
  },
  {
   "cell_type": "markdown",
   "id": "f0e2167a-418b-4f93-850c-f9c60e908713",
   "metadata": {},
   "source": [
    "While social media facilitates communication and collaboration in professional settings, its impact on productivity and job satisfaction is nuanced. The data reveals a slight but significant decline in perceived productivity with increased usage (*r* = −0.12), suggesting that excessive use may detract from efficiency. Conversely, job satisfaction remains stable across all usage levels, with no meaningful differences between low, moderate, or high social media engagement. These findings underscore the importance of mindful usage: leveraging social media’s networking benefits while avoiding overuse that could impair productivity. Rather than framing it as a tool that inherently boosts satisfaction or performance, the evidence positions social media as a neutral factor whose value depends on intentionality and context."
   ]
  },
  {
   "cell_type": "code",
   "execution_count": null,
   "id": "9ec62fed-34be-4f36-babd-213c8899cf8a",
   "metadata": {},
   "outputs": [],
   "source": []
  }
 ],
 "metadata": {
  "kernelspec": {
   "display_name": "Python 3 (ipykernel)",
   "language": "python",
   "name": "python3"
  },
  "language_info": {
   "codemirror_mode": {
    "name": "ipython",
    "version": 3
   },
   "file_extension": ".py",
   "mimetype": "text/x-python",
   "name": "python",
   "nbconvert_exporter": "python",
   "pygments_lexer": "ipython3",
   "version": "3.13.2"
  }
 },
 "nbformat": 4,
 "nbformat_minor": 5
}