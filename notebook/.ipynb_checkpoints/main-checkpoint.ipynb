{
 "cells": [
  {
   "cell_type": "markdown",
   "id": "4e96f44d-68d0-4f64-a003-2d922b32b30f",
   "metadata": {},
   "source": [
    "# Introduction #"
   ]
  },
  {
   "cell_type": "markdown",
   "id": "070b47b5-1dba-4533-b25b-6afac02a33e2",
   "metadata": {},
   "source": [
    "In today’s connected world, social media is a double-edged sword. While some say it is a powerful tool for networking, learning, and efficient communication, others struggle with distraction, addiction, and declining mental health. Our data story explores this dichotomy by analyzing how social media habits impact productivity, well-being, and job satisfaction among students and professionals.\n",
    "\n",
    "Using three datasets—including Students’ Social Media Addiction and Social Media vs. Productivity—we’ll visualize key trends, such as correlations between screen time and stress levels or addiction scores and academic performance. Through scatter plots, box plots, and other graphs, we aim to provide new insightful information to the public.\n",
    "\n",
    "Our goal is to provide data-driven insights to users so we give them the chance to make thoughtful decisions.\n"
   ]
  },
  {
   "cell_type": "markdown",
   "id": "72181035-3c14-4cbf-8007-2796ca6225cd",
   "metadata": {},
   "source": [
    "### Authors ###"
   ]
  },
  {
   "cell_type": "markdown",
   "id": "521fe393-0ff5-4259-b03d-31c420d28a88",
   "metadata": {},
   "source": [
    "+ Robert Quarshie, 1465836\n",
    "+ Bo Wessel, 14043009\n",
    "+ Robert Ryabov, 15475255\n",
    "+ Trayvaun Palmer, 14654164\n"
   ]
  },
  {
   "cell_type": "markdown",
   "id": "d202db5a-8f9b-48db-8462-3d8dbfe4bdca",
   "metadata": {},
   "source": [
    "# Datasets #"
   ]
  },
  {
   "cell_type": "markdown",
   "id": "58c8a25a-b90c-4447-b52a-1d053ece962f",
   "metadata": {},
   "source": [
    "For this project we made use of three datasets. The way we assembled the datasets is, each group member searched the internet for multiple datasets about the subject. Then we compared them to choose the three that fitted the best together and covered the most of our interest. All three were found on Kaggle and have the following names: *Students' Social Media Addiction*, *Social Media vs Productivity* and *Mobile Device Usage and User Behavior Dataset*."
   ]
  },
  {
   "cell_type": "markdown",
   "id": "ba74d234-67cf-4fa8-91d0-52f6ed523a28",
   "metadata": {},
   "source": [
    "### Variable description ###"
   ]
  },
  {
   "cell_type": "markdown",
   "id": "93de27c8-6efe-4f2a-946a-4178a818163a",
   "metadata": {},
   "source": [
    "#### Continuous / Ratio Variables ####"
   ]
  },
  {
   "cell_type": "markdown",
   "id": "75dcb31c-8e6f-4283-92bd-97f71dc9a899",
   "metadata": {},
   "source": [
    "Avg_Daily_Usage_Hours, Sleep_Hours_Per_Night, daily_social_media_time, work_hours_per_day, sleep_hours, screen_time_before_sleep, weekly_offline_hours, App Usage Time (minutes), Screen On Time (hours), Battery Drain (mAh) andData Usage (megabytes)."
   ]
  },
  {
   "cell_type": "markdown",
   "id": "76305b67-bec5-49b9-97cc-4e53df20a2de",
   "metadata": {},
   "source": [
    "#### Discrete / Ordinal Variables ####"
   ]
  },
  {
   "cell_type": "markdown",
   "id": "6d21c69c-2325-45b3-b62b-1c720ad010b1",
   "metadata": {},
   "source": [
    "Academic_Level, Mental_Health_Score, Addicted_Score, perceived_productivity_score, actual_productivity_score, stress_level, job_satisfaction_score and User Behavior Class (1 to 5)."
   ]
  },
  {
   "cell_type": "markdown",
   "id": "8cc51303-d36f-473f-9897-c599bb314692",
   "metadata": {},
   "source": [
    "#### Discrete / Nominal Variables ####"
   ]
  },
  {
   "cell_type": "markdown",
   "id": "0b9446b0-5f53-494d-86ac-d4aa68d5ace9",
   "metadata": {},
   "source": [
    "Student_ID, Gender, Country, Most_Used_Platform, Affects_Academic_Performance, Relationship_Status, gender, job_type, social_platform_preference, uses_focus_apps, has_digital_wellbeing_enabled, User ID, Device Model and Operating System (iOS/Android)."
   ]
  },
  {
   "cell_type": "markdown",
   "id": "671f91f6-4685-4820-80fb-464c235a5fda",
   "metadata": {},
   "source": [
    "#### Discrete / Ratio Variables ####"
   ]
  },
  {
   "cell_type": "markdown",
   "id": "2958f843-d20f-4502-b668-a051f2ae5be5",
   "metadata": {},
   "source": [
    "Age, Conflicts_Over_Social_Media, number_of_notifications, breaks_during_work, coffee_consumption_per_day, days_feeling_burnout_per_month and Number of Apps Installed.\n",
    " \n"
   ]
  },
  {
   "cell_type": "markdown",
   "id": "c9d2e8c4-90b5-4fcf-867a-b602f93fce2a",
   "metadata": {},
   "source": [
    "#### Variables that are used in this project:  ####"
   ]
  },
  {
   "cell_type": "markdown",
   "id": "83dca800-f27e-4a1f-afa0-6d3e5c611e01",
   "metadata": {},
   "source": [
    "# Preprocessing #"
   ]
  },
  {
   "cell_type": "markdown",
   "id": "9564a6b2-0d59-4183-b2d5-38e9f50fc41a",
   "metadata": {},
   "source": [
    "The dataset contains various digital behavior metrics, well-being scores, and demographic variables collected from different sources. To ensure consistency, we first standardized column names and structures. Variables measuring similar concepts were identified and merged—for example, Sleep_Hours_Per_Night and sleep_hours were consolidated into a single daily_sleep_hours variable.\n",
    "Redundant or irrelevant columns (e.g., Student_ID, User ID) were removed, as they do not contribute to the statistical analysis. Some device-specific variables (e.g., Device Model, Battery Drain) were excluded since they are more relevant for technical analysis rather than behavioral studies.\n",
    "\n",
    "Next, we examined each variable’s unique values and adjusted them for consistency:\n",
    "+ **Continuous variables** (e.g., Avg_Daily_Usage_Hours, Screen On Time) were checked for outliers and normalized where necessary.\n",
    "+ **Ordinal scales** (e.g., Mental_Health_Score, stress_level) were validated to ensure proper ranking (e.g., confirming that higher numbers indicate worse stress).\n",
    "+ **Nominal categories** (e.g., Most_Used_Platform, social_platform_preference) were grouped where possible (e.g., merging \"Instagram\" and \"IG\" into a single category).\n",
    "After this we end up with a clean dataset which can be used to do further research with.\n"
   ]
  },
  {
   "cell_type": "markdown",
   "id": "fc259d22-99cf-420a-80e2-2691a7a5e49f",
   "metadata": {},
   "source": [
    "# First perspective #"
   ]
  },
  {
   "cell_type": "markdown",
   "id": "cced13c1-efff-4d67-a01a-0c89fdb39dac",
   "metadata": {},
   "source": [
    "## Social Media Fosters Communication and Collaboration, with a Nuanced Impact on Productivity ##"
   ]
  },
  {
   "cell_type": "markdown",
   "id": "c33386d2-941f-4d08-a5f3-92654ef5cecf",
   "metadata": {},
   "source": [
    "Platforms such as Slack, LinkedIn, and Twitter have become essential tools for networking, information exchange, and teamwork, particularly in remote or hybrid work environments. These platforms help bridge communication gaps and streamline workflows.\n",
    "Our dataset of 25,751 respondents indicates an average daily social media use of approximately 3.11 hours and a mean perceived productivity score of 5.51 (on a scale where higher scores represent greater productivity). A small but statistically significant negative correlation exists between daily social media time and perceived productivity (Pearson’s r = -0.12, p < 0.001). This suggests that productivity tends to decrease slightly as social media use increases, though the effect size remains modest.\n",
    "Figure 1 visualizes this relationship, where the scatter plot with a regression line reveals a subtle downward trend. This indicates that while excessive social media use might detract from productivity, moderate engagement can still play a valuable role in enhancing communication and collaboration, indirectly supporting productivity and job satisfaction.\n",
    "These findings underscore the importance of mindful social media use to maximize its benefits while minimizing potential distractions.\n"
   ]
  },
  {
   "cell_type": "code",
   "execution_count": 6,
   "id": "87b90ca1-373f-4f82-8724-8ca29333bd42",
   "metadata": {},
   "outputs": [],
   "source": [
    "%run plot_productivity.py"
   ]
  },
  {
   "cell_type": "code",
   "execution_count": null,
   "id": "990281ab-bf86-48c8-845b-1fe44ae7f681",
   "metadata": {},
   "outputs": [],
   "source": []
  }
 ],
 "metadata": {
  "kernelspec": {
   "display_name": "Python 3 (ipykernel)",
   "language": "python",
   "name": "python3"
  },
  "language_info": {
   "codemirror_mode": {
    "name": "ipython",
    "version": 3
   },
   "file_extension": ".py",
   "mimetype": "text/x-python",
   "name": "python",
   "nbconvert_exporter": "python",
   "pygments_lexer": "ipython3",
   "version": "3.13.3"
  }
 },
 "nbformat": 4,
 "nbformat_minor": 5
}
